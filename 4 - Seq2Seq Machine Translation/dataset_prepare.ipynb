{
 "cells": [
  {
   "cell_type": "code",
   "execution_count": 1,
   "id": "9843b047",
   "metadata": {},
   "outputs": [],
   "source": [
    "# Import\n",
    "\n",
    "import tensorflow as tf\n",
    "import numpy as np\n",
    "import os\n",
    "import re\n",
    "import io\n",
    "import pathlib\n",
    "import unicodedata\n",
    "import pickle\n",
    "\n",
    "from sklearn.model_selection import train_test_split"
   ]
  },
  {
   "cell_type": "code",
   "execution_count": 2,
   "id": "ee71e18e",
   "metadata": {},
   "outputs": [],
   "source": [
    "# Some constants\n",
    "\n",
    "# Number of sampled data to use during training. Set to 'None' for the whole dataset\n",
    "NUM_EXAMPLES = 120000\n",
    "# percentage of split for training/test\n",
    "TRAIN_TEST_SPLIT = 0.2\n",
    "# Current path\n",
    "current_path = pathlib.Path().absolute()"
   ]
  },
  {
   "cell_type": "code",
   "execution_count": 3,
   "id": "603a1f7b",
   "metadata": {},
   "outputs": [],
   "source": [
    "# Path to the dataset file\n",
    "path_to_file = os.path.join(current_path,\"dataset\",\"raw\",\"por-eng\",\"por.txt\")"
   ]
  },
  {
   "cell_type": "code",
   "execution_count": 4,
   "id": "e6ce98bb",
   "metadata": {},
   "outputs": [],
   "source": [
    "# Convert unicode to ascii character\n",
    "# This removes accents\n",
    "def unicode_to_ascii(s):\n",
    "    return ''.join(c for c in unicodedata.normalize('NFD', s)\n",
    "        if unicodedata.category(c) != 'Mn')\n",
    "\n",
    "def preprocess_sentence(w):\n",
    "    w = unicode_to_ascii(w.lower().strip())\n",
    "\n",
    "    # creating a space between a word and the punctuation following it\n",
    "    # eg: \"he is a boy.\" => \"he is a boy .\"\n",
    "    # Reference:- https://stackoverflow.com/questions/3645931/python-padding-punctuation-with-white-spaces-keeping-punctuation\n",
    "    w = re.sub(r\"([?.!,¿])\", r\" \\1 \", w)\n",
    "    w = re.sub(r'[\" \"]+', \" \", w)\n",
    "\n",
    "    # replacing everything with space except (a-z, A-Z, \".\", \"?\", \"!\", \",\")\n",
    "    w = re.sub(r\"[^a-zA-Z?.!,¿]+\", \" \", w)\n",
    "\n",
    "    w = w.strip()\n",
    "\n",
    "    # adding a start and an end token to the sentence\n",
    "    # so that the model know when to start and stop predicting.\n",
    "    w = '<start> ' + w + ' <end>'\n",
    "    return w"
   ]
  },
  {
   "cell_type": "code",
   "execution_count": 5,
   "id": "23bc94db",
   "metadata": {},
   "outputs": [],
   "source": [
    "# 1. Remove the accents\n",
    "# 2. Clean the sentences\n",
    "# 3. Return word pairs in the format: [ENGLISH, PORTUGUESE]\n",
    "def create_dataset(path, num_examples):\n",
    "    lines = io.open(path, encoding='UTF-8').read().strip().split('\\n')\n",
    "\n",
    "    word_pairs = [[preprocess_sentence(w) for w in line.split('\\t')]\n",
    "                for line in lines[:num_examples]]\n",
    "\n",
    "    word_pairs_remove_CC_BY = []\n",
    "    for i in range(len(word_pairs)):\n",
    "        word_pairs_remove_CC_BY.append([word_pairs[i][0], word_pairs[i][1]])\n",
    "\n",
    "    return zip(*word_pairs_remove_CC_BY)\n",
    "\n",
    "# Tokenizer\n",
    "def tokenize(lang):\n",
    "    lang_tokenizer = tf.keras.preprocessing.text.Tokenizer(filters='')\n",
    "    lang_tokenizer.fit_on_texts(lang)\n",
    "\n",
    "    tensor = lang_tokenizer.texts_to_sequences(lang)\n",
    "\n",
    "    tensor = tf.keras.preprocessing.sequence.pad_sequences(tensor,\n",
    "                                                         padding='post')\n",
    "\n",
    "    return tensor, lang_tokenizer\n",
    "\n",
    "# Load dataset\n",
    "def load_dataset(path, num_examples=None):\n",
    "    # creating cleaned input, output pairs\n",
    "    targ_lang, inp_lang = create_dataset(path, num_examples)\n",
    "\n",
    "    input_tensor, inp_lang_tokenizer = tokenize(inp_lang)\n",
    "    target_tensor, targ_lang_tokenizer = tokenize(targ_lang)\n",
    "\n",
    "    return input_tensor, target_tensor, inp_lang_tokenizer, targ_lang_tokenizer"
   ]
  },
  {
   "cell_type": "code",
   "execution_count": 6,
   "id": "f4c0c8e7",
   "metadata": {},
   "outputs": [],
   "source": [
    "# Try experimenting with the size of that dataset\n",
    "input_tensor, target_tensor, inp_lang, targ_lang = load_dataset(path_to_file, NUM_EXAMPLES)\n",
    "\n",
    "# Creating training and validation sets using an 80-20 split\n",
    "input_tensor_train, input_tensor_val, target_tensor_train, target_tensor_val = train_test_split(input_tensor, target_tensor, test_size=TRAIN_TEST_SPLIT)"
   ]
  },
  {
   "cell_type": "code",
   "execution_count": 7,
   "id": "3f369ced",
   "metadata": {
    "scrolled": true
   },
   "outputs": [
    {
     "name": "stdout",
     "output_type": "stream",
     "text": [
      "input_train \ttarget_train \tinput_val \ttarget_val\n",
      "96000 \t\t96000 \t\t24000 \t\t24000\n"
     ]
    }
   ],
   "source": [
    "# Show length\n",
    "print(\"input_train\", \"\\ttarget_train\", \"\\tinput_val\", \"\\ttarget_val\")\n",
    "print(len(input_tensor_train), \"\\t\\t\"+str(len(target_tensor_train)), \"\\t\\t\"+str(len(input_tensor_val)), \"\\t\\t\"+str(len(target_tensor_val)))"
   ]
  },
  {
   "cell_type": "code",
   "execution_count": 8,
   "id": "556727a1",
   "metadata": {},
   "outputs": [],
   "source": [
    "# Fuction that converts the tokenized vector into words\n",
    "def convert(lang, tensor):\n",
    "    for t in tensor:\n",
    "        if t != 0:\n",
    "            print(f'{t} ----> {lang.index_word[t]}')"
   ]
  },
  {
   "cell_type": "code",
   "execution_count": 9,
   "id": "d9b67976",
   "metadata": {},
   "outputs": [
    {
     "name": "stdout",
     "output_type": "stream",
     "text": [
      "Demonstration of index to word mapping\n",
      "Input Language\n",
      "1 ----> <start>\n",
      "4 ----> tom\n",
      "96 ----> parece\n",
      "937 ----> diferente\n",
      "12 ----> de\n",
      "309 ----> algum\n",
      "2629 ----> modo\n",
      "3 ----> .\n",
      "2 ----> <end>\n",
      "\n",
      "Target Language\n",
      "1 ----> <start>\n",
      "5 ----> tom\n",
      "274 ----> seems\n",
      "630 ----> different\n",
      "2856 ----> somehow\n",
      "3 ----> .\n",
      "2 ----> <end>\n",
      "<class 'numpy.ndarray'>\n",
      "<class 'keras_preprocessing.text.Tokenizer'>\n"
     ]
    }
   ],
   "source": [
    "print(\"Demonstration of index to word mapping\")\n",
    "\n",
    "print(\"Input Language\")\n",
    "convert(inp_lang, input_tensor_train[0])\n",
    "print()\n",
    "print(\"Target Language\")\n",
    "convert(targ_lang, target_tensor_train[0])\n",
    "\n",
    "print(type(input_tensor_train))\n",
    "print(type(inp_lang))"
   ]
  },
  {
   "cell_type": "code",
   "execution_count": 10,
   "id": "633afab3",
   "metadata": {},
   "outputs": [],
   "source": [
    "# Save tokenized dataset for training script\n",
    "\n",
    "save_path = os.path.join(current_path,\"dataset\",\"por-eng\")\n",
    "if not os.path.exists(save_path):\n",
    "    os.makedirs(save_path)\n",
    "\n",
    "np.save(os.path.join(save_path,\"input_tensor_train.npy\"), input_tensor_train)\n",
    "np.save(os.path.join(save_path,\"input_tensor_val.npy\"), input_tensor_val)\n",
    "np.save(os.path.join(save_path,\"target_tensor_train.npy\"), target_tensor_train)\n",
    "np.save(os.path.join(save_path,\"target_tensor_val.npy\"), target_tensor_train)\n",
    "\n",
    "with open(os.path.join(save_path,\"inp_lang.tokenizer\"), 'wb') as handle:\n",
    "    pickle.dump(inp_lang, handle, protocol=pickle.HIGHEST_PROTOCOL)\n",
    "    \n",
    "with open(os.path.join(save_path,\"targ_lang.tokenizer\"), 'wb') as handle:\n",
    "    pickle.dump(targ_lang, handle, protocol=pickle.HIGHEST_PROTOCOL)"
   ]
  }
 ],
 "metadata": {
  "kernelspec": {
   "display_name": "Python 3",
   "language": "python",
   "name": "python3"
  },
  "language_info": {
   "codemirror_mode": {
    "name": "ipython",
    "version": 3
   },
   "file_extension": ".py",
   "mimetype": "text/x-python",
   "name": "python",
   "nbconvert_exporter": "python",
   "pygments_lexer": "ipython3",
   "version": "3.8.8"
  }
 },
 "nbformat": 4,
 "nbformat_minor": 5
}
